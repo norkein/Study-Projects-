{
 "cells": [
  {
   "cell_type": "code",
   "execution_count": 5,
   "metadata": {},
   "outputs": [],
   "source": [
    "import pandas as pd\n",
    "from collections import deque"
   ]
  },
  {
   "cell_type": "markdown",
   "metadata": {},
   "source": [
    "В файле содержится информация о покупках людей.\n",
    "id – означает покупку (в одну покупку входят все товары, купленные пользователем во время 1 похода в магазин)\n",
    "Товар – наименование товара\n",
    "Количество – число единиц купленного товара\n",
    "Воспользуйтесь этими данными и выясните, какие пары товаров пользователи чаще всего покупают вместе. По сути, вам необходимо найти паттерны покупок, что позволит оптимизировать размещение продуктов в магазине, для удобства пользователей и увеличения выручки.\n"
   ]
  },
  {
   "cell_type": "code",
   "execution_count": 6,
   "metadata": {},
   "outputs": [],
   "source": [
    "df = pd.read_csv('https://stepik.org/media/attachments/lesson/409319/test1_completed.csv')"
   ]
  },
  {
   "cell_type": "markdown",
   "metadata": {},
   "source": [
    " Изучаем данные"
   ]
  },
  {
   "cell_type": "code",
   "execution_count": 7,
   "metadata": {},
   "outputs": [
    {
     "data": {
      "text/html": [
       "<div>\n",
       "<style scoped>\n",
       "    .dataframe tbody tr th:only-of-type {\n",
       "        vertical-align: middle;\n",
       "    }\n",
       "\n",
       "    .dataframe tbody tr th {\n",
       "        vertical-align: top;\n",
       "    }\n",
       "\n",
       "    .dataframe thead th {\n",
       "        text-align: right;\n",
       "    }\n",
       "</style>\n",
       "<table border=\"1\" class=\"dataframe\">\n",
       "  <thead>\n",
       "    <tr style=\"text-align: right;\">\n",
       "      <th></th>\n",
       "      <th>id</th>\n",
       "      <th>Товар</th>\n",
       "      <th>Количество</th>\n",
       "    </tr>\n",
       "  </thead>\n",
       "  <tbody>\n",
       "    <tr>\n",
       "      <th>0</th>\n",
       "      <td>17119</td>\n",
       "      <td>Лимон</td>\n",
       "      <td>1.1</td>\n",
       "    </tr>\n",
       "    <tr>\n",
       "      <th>1</th>\n",
       "      <td>17119</td>\n",
       "      <td>Лимон оранжевый</td>\n",
       "      <td>0.7</td>\n",
       "    </tr>\n",
       "    <tr>\n",
       "      <th>2</th>\n",
       "      <td>17119</td>\n",
       "      <td>Лук-порей</td>\n",
       "      <td>10.0</td>\n",
       "    </tr>\n",
       "    <tr>\n",
       "      <th>3</th>\n",
       "      <td>17119</td>\n",
       "      <td>Лук репчатый</td>\n",
       "      <td>2.5</td>\n",
       "    </tr>\n",
       "    <tr>\n",
       "      <th>4</th>\n",
       "      <td>17119</td>\n",
       "      <td>Малина свежая</td>\n",
       "      <td>1.0</td>\n",
       "    </tr>\n",
       "  </tbody>\n",
       "</table>\n",
       "</div>"
      ],
      "text/plain": [
       "      id            Товар  Количество\n",
       "0  17119            Лимон         1.1\n",
       "1  17119  Лимон оранжевый         0.7\n",
       "2  17119        Лук-порей        10.0\n",
       "3  17119     Лук репчатый         2.5\n",
       "4  17119    Малина свежая         1.0"
      ]
     },
     "execution_count": 7,
     "metadata": {},
     "output_type": "execute_result"
    }
   ],
   "source": [
    "df.head()"
   ]
  },
  {
   "cell_type": "code",
   "execution_count": 8,
   "metadata": {},
   "outputs": [
    {
     "data": {
      "text/plain": [
       "(43514, 3)"
      ]
     },
     "execution_count": 8,
     "metadata": {},
     "output_type": "execute_result"
    }
   ],
   "source": [
    "df.shape"
   ]
  },
  {
   "cell_type": "code",
   "execution_count": 9,
   "metadata": {},
   "outputs": [
    {
     "data": {
      "text/plain": [
       "id            0\n",
       "Товар         0\n",
       "Количество    0\n",
       "dtype: int64"
      ]
     },
     "execution_count": 9,
     "metadata": {},
     "output_type": "execute_result"
    }
   ],
   "source": [
    "df.isna().sum()"
   ]
  },
  {
   "cell_type": "code",
   "execution_count": 10,
   "metadata": {},
   "outputs": [
    {
     "data": {
      "text/plain": [
       "id            3273\n",
       "Товар          199\n",
       "Количество     101\n",
       "dtype: int64"
      ]
     },
     "execution_count": 10,
     "metadata": {},
     "output_type": "execute_result"
    }
   ],
   "source": [
    "df.nunique()"
   ]
  },
  {
   "cell_type": "code",
   "execution_count": 11,
   "metadata": {},
   "outputs": [
    {
     "data": {
      "text/plain": [
       "id              int64\n",
       "Товар          object\n",
       "Количество    float64\n",
       "dtype: object"
      ]
     },
     "execution_count": 11,
     "metadata": {},
     "output_type": "execute_result"
    }
   ],
   "source": [
    "df.dtypes"
   ]
  },
  {
   "cell_type": "code",
   "execution_count": 12,
   "metadata": {},
   "outputs": [
    {
     "name": "stdout",
     "output_type": "stream",
     "text": [
      "<class 'pandas.core.frame.DataFrame'>\n",
      "RangeIndex: 43514 entries, 0 to 43513\n",
      "Data columns (total 3 columns):\n",
      " #   Column      Non-Null Count  Dtype  \n",
      "---  ------      --------------  -----  \n",
      " 0   id          43514 non-null  int64  \n",
      " 1   Товар       43514 non-null  object \n",
      " 2   Количество  43514 non-null  float64\n",
      "dtypes: float64(1), int64(1), object(1)\n",
      "memory usage: 1020.0+ KB\n"
     ]
    }
   ],
   "source": [
    "df.info()"
   ]
  },
  {
   "cell_type": "code",
   "execution_count": 13,
   "metadata": {},
   "outputs": [],
   "source": [
    "df.rename(columns={'Товар': 'article', 'Количество': 'quantity'},inplace=True)  "
   ]
  },
  {
   "cell_type": "code",
   "execution_count": 14,
   "metadata": {},
   "outputs": [
    {
     "data": {
      "text/html": [
       "<div>\n",
       "<style scoped>\n",
       "    .dataframe tbody tr th:only-of-type {\n",
       "        vertical-align: middle;\n",
       "    }\n",
       "\n",
       "    .dataframe tbody tr th {\n",
       "        vertical-align: top;\n",
       "    }\n",
       "\n",
       "    .dataframe thead th {\n",
       "        text-align: right;\n",
       "    }\n",
       "</style>\n",
       "<table border=\"1\" class=\"dataframe\">\n",
       "  <thead>\n",
       "    <tr style=\"text-align: right;\">\n",
       "      <th></th>\n",
       "      <th>id</th>\n",
       "      <th>article</th>\n",
       "      <th>quantity</th>\n",
       "    </tr>\n",
       "  </thead>\n",
       "  <tbody>\n",
       "  </tbody>\n",
       "</table>\n",
       "</div>"
      ],
      "text/plain": [
       "Empty DataFrame\n",
       "Columns: [id, article, quantity]\n",
       "Index: []"
      ]
     },
     "execution_count": 14,
     "metadata": {},
     "output_type": "execute_result"
    }
   ],
   "source": [
    "df.query('quantity == 0') "
   ]
  },
  {
   "cell_type": "code",
   "execution_count": 15,
   "metadata": {},
   "outputs": [],
   "source": [
    "del df['quantity'] "
   ]
  },
  {
   "cell_type": "code",
   "execution_count": 16,
   "metadata": {},
   "outputs": [],
   "source": [
    "df_one_article = df.groupby(['id'], as_index=False).agg({'article': 'count'}).sort_values('article').query('article == 1') "
   ]
  },
  {
   "cell_type": "code",
   "execution_count": 17,
   "metadata": {},
   "outputs": [],
   "source": [
    "only_one_article = df_one_article.id.to_list()"
   ]
  },
  {
   "cell_type": "code",
   "execution_count": 18,
   "metadata": {},
   "outputs": [],
   "source": [
    "new_df = df[~df.id.isin(only_one_article)] "
   ]
  },
  {
   "cell_type": "code",
   "execution_count": 19,
   "metadata": {},
   "outputs": [],
   "source": [
    "new_df = new_df.reset_index(drop=True)"
   ]
  },
  {
   "cell_type": "code",
   "execution_count": 20,
   "metadata": {},
   "outputs": [
    {
     "data": {
      "text/html": [
       "<div>\n",
       "<style scoped>\n",
       "    .dataframe tbody tr th:only-of-type {\n",
       "        vertical-align: middle;\n",
       "    }\n",
       "\n",
       "    .dataframe tbody tr th {\n",
       "        vertical-align: top;\n",
       "    }\n",
       "\n",
       "    .dataframe thead th {\n",
       "        text-align: right;\n",
       "    }\n",
       "</style>\n",
       "<table border=\"1\" class=\"dataframe\">\n",
       "  <thead>\n",
       "    <tr style=\"text-align: right;\">\n",
       "      <th></th>\n",
       "      <th>id</th>\n",
       "      <th>article</th>\n",
       "    </tr>\n",
       "  </thead>\n",
       "  <tbody>\n",
       "    <tr>\n",
       "      <th>671</th>\n",
       "      <td>39472</td>\n",
       "      <td>2</td>\n",
       "    </tr>\n",
       "    <tr>\n",
       "      <th>1677</th>\n",
       "      <td>71763</td>\n",
       "      <td>2</td>\n",
       "    </tr>\n",
       "    <tr>\n",
       "      <th>1669</th>\n",
       "      <td>71500</td>\n",
       "      <td>2</td>\n",
       "    </tr>\n",
       "    <tr>\n",
       "      <th>2576</th>\n",
       "      <td>100639</td>\n",
       "      <td>2</td>\n",
       "    </tr>\n",
       "    <tr>\n",
       "      <th>1636</th>\n",
       "      <td>70437</td>\n",
       "      <td>2</td>\n",
       "    </tr>\n",
       "    <tr>\n",
       "      <th>...</th>\n",
       "      <td>...</td>\n",
       "      <td>...</td>\n",
       "    </tr>\n",
       "    <tr>\n",
       "      <th>1828</th>\n",
       "      <td>77120</td>\n",
       "      <td>56</td>\n",
       "    </tr>\n",
       "    <tr>\n",
       "      <th>2041</th>\n",
       "      <td>83977</td>\n",
       "      <td>59</td>\n",
       "    </tr>\n",
       "    <tr>\n",
       "      <th>153</th>\n",
       "      <td>23467</td>\n",
       "      <td>61</td>\n",
       "    </tr>\n",
       "    <tr>\n",
       "      <th>648</th>\n",
       "      <td>38766</td>\n",
       "      <td>62</td>\n",
       "    </tr>\n",
       "    <tr>\n",
       "      <th>2532</th>\n",
       "      <td>99430</td>\n",
       "      <td>64</td>\n",
       "    </tr>\n",
       "  </tbody>\n",
       "</table>\n",
       "<p>3134 rows × 2 columns</p>\n",
       "</div>"
      ],
      "text/plain": [
       "          id  article\n",
       "671    39472        2\n",
       "1677   71763        2\n",
       "1669   71500        2\n",
       "2576  100639        2\n",
       "1636   70437        2\n",
       "...      ...      ...\n",
       "1828   77120       56\n",
       "2041   83977       59\n",
       "153    23467       61\n",
       "648    38766       62\n",
       "2532   99430       64\n",
       "\n",
       "[3134 rows x 2 columns]"
      ]
     },
     "execution_count": 20,
     "metadata": {},
     "output_type": "execute_result"
    }
   ],
   "source": [
    "new_df.groupby(['id'], as_index=False).agg({'article': 'count'}).sort_values('article') "
   ]
  },
  {
   "cell_type": "code",
   "execution_count": 21,
   "metadata": {},
   "outputs": [
    {
     "data": {
      "text/plain": [
       "True"
      ]
     },
     "execution_count": 21,
     "metadata": {},
     "output_type": "execute_result"
    }
   ],
   "source": [
    "(df.shape[0]- new_df.shape[0] == len(only_one_article))"
   ]
  },
  {
   "cell_type": "code",
   "execution_count": 22,
   "metadata": {},
   "outputs": [],
   "source": [
    "# заполняем словарь ключами id и значениями article\n",
    "onecheck = {}\n",
    "for i in range(len(new_df)):\n",
    "    if new_df.id[i] not in onecheck:\n",
    "        onecheck[new_df.id[i]] = []\n",
    "    onecheck[new_df.id[i]].append(new_df.article[i])"
   ]
  },
  {
   "cell_type": "code",
   "execution_count": 24,
   "metadata": {},
   "outputs": [],
   "source": [
    "# Создаем словарь, в котором будем хранить пары слов\n",
    "pair_articles = {}\n",
    "for i in (onecheck):\n",
    "    pair_articles[i] = []"
   ]
  },
  {
   "cell_type": "code",
   "execution_count": 25,
   "metadata": {},
   "outputs": [],
   "source": [
    "# заполняем словарь всеми вариантами пар слов из одной покупки\n",
    "for i in (onecheck):\n",
    "    onecheck[i] = sorted(onecheck[i])\n",
    "    onecheck[i] = deque(onecheck[i])\n",
    "    for j in range(len(onecheck[i])):\n",
    "        for k in range(len(onecheck[i])):\n",
    "            if k < len(onecheck[i]) - 1:\n",
    "                pair_articles[i].append(onecheck[i][0] + ' ' + onecheck[i][k + 1])\n",
    "        onecheck[i].popleft()"
   ]
  },
  {
   "cell_type": "code",
   "execution_count": 26,
   "metadata": {},
   "outputs": [
    {
     "data": {
      "text/plain": [
       "True"
      ]
     },
     "execution_count": 26,
     "metadata": {},
     "output_type": "execute_result"
    }
   ],
   "source": [
    "len(pair_articles) == len(onecheck)"
   ]
  },
  {
   "cell_type": "code",
   "execution_count": 27,
   "metadata": {},
   "outputs": [],
   "source": [
    "# создаем новый словарь, ключем в котором являются пары, а значением их частота\n",
    "pair_count = {}\n",
    "for i in (pair_articles.values()):\n",
    "    for j in i:\n",
    "        if j not in pair_count:\n",
    "            pair_count[j] = 0\n",
    "        pair_count[j] += 1"
   ]
  },
  {
   "cell_type": "code",
   "execution_count": 28,
   "metadata": {},
   "outputs": [],
   "source": [
    "df_pair = pd.DataFrame.from_dict(pair_count, orient='index')"
   ]
  },
  {
   "cell_type": "code",
   "execution_count": 29,
   "metadata": {},
   "outputs": [],
   "source": [
    "df_pair.rename(columns={0: 'count'}, inplace=True)"
   ]
  },
  {
   "cell_type": "code",
   "execution_count": 30,
   "metadata": {},
   "outputs": [
    {
     "data": {
      "text/html": [
       "<div>\n",
       "<style scoped>\n",
       "    .dataframe tbody tr th:only-of-type {\n",
       "        vertical-align: middle;\n",
       "    }\n",
       "\n",
       "    .dataframe tbody tr th {\n",
       "        vertical-align: top;\n",
       "    }\n",
       "\n",
       "    .dataframe thead th {\n",
       "        text-align: right;\n",
       "    }\n",
       "</style>\n",
       "<table border=\"1\" class=\"dataframe\">\n",
       "  <thead>\n",
       "    <tr style=\"text-align: right;\">\n",
       "      <th></th>\n",
       "      <th>count</th>\n",
       "    </tr>\n",
       "  </thead>\n",
       "  <tbody>\n",
       "    <tr>\n",
       "      <th>Огурцы Луховицкие Укроп</th>\n",
       "      <td>431</td>\n",
       "    </tr>\n",
       "    <tr>\n",
       "      <th>Петрушка Укроп</th>\n",
       "      <td>408</td>\n",
       "    </tr>\n",
       "    <tr>\n",
       "      <th>Арбуз Огурцы Луховицкие</th>\n",
       "      <td>345</td>\n",
       "    </tr>\n",
       "    <tr>\n",
       "      <th>Кабачки Огурцы Луховицкие</th>\n",
       "      <td>326</td>\n",
       "    </tr>\n",
       "    <tr>\n",
       "      <th>Кинза Укроп</th>\n",
       "      <td>303</td>\n",
       "    </tr>\n",
       "  </tbody>\n",
       "</table>\n",
       "</div>"
      ],
      "text/plain": [
       "                           count\n",
       "Огурцы Луховицкие Укроп      431\n",
       "Петрушка Укроп               408\n",
       "Арбуз Огурцы Луховицкие      345\n",
       "Кабачки Огурцы Луховицкие    326\n",
       "Кинза Укроп                  303"
      ]
     },
     "execution_count": 30,
     "metadata": {},
     "output_type": "execute_result"
    }
   ],
   "source": [
    "df_pair.sort_values('count', ascending=False).head(5)  # выводим топ 5 самых вcnречаемых пар"
   ]
  },
  {
   "cell_type": "markdown",
   "metadata": {},
   "source": [
    "Промежуточный итог.\n",
    "На основании полученых данных можно сделать вывод о совместном раположении овощей и зелени. Хотелось бы сделать более полезные выводы для чего повнимательнее рассмотрим данные."
   ]
  },
  {
   "cell_type": "code",
   "execution_count": 31,
   "metadata": {},
   "outputs": [],
   "source": [
    "products = df.groupby('article', as_index=False)\\\n",
    "    .agg(sum).article.to_list()"
   ]
  },
  {
   "cell_type": "code",
   "execution_count": 32,
   "metadata": {},
   "outputs": [
    {
     "data": {
      "text/plain": [
       "['Абрикос вяленый',\n",
       " 'Абрикосы молдавские',\n",
       " 'Авокадо ХАСС',\n",
       " 'Авокадо стандарт',\n",
       " 'Алыча вяленая',\n",
       " 'Ананас Gold',\n",
       " 'Ананасовые кольца',\n",
       " 'Апельсины столовые',\n",
       " 'Арбуз',\n",
       " 'Арбуз овальный',\n",
       " 'Базилик зеленый',\n",
       " 'Базилик красный',\n",
       " 'Баклажаны белые',\n",
       " 'Баклажаны грунтовые',\n",
       " 'Банановые чипсы',\n",
       " 'Бананы',\n",
       " 'Бананы мини',\n",
       " 'Барбарис сушеный',\n",
       " 'Боярышник сушеный',\n",
       " 'Бразильский орех',\n",
       " 'Брусника свежая',\n",
       " 'Букет \"Брокколи\"',\n",
       " 'Букет \"Закат\"',\n",
       " 'Букет \"Кассиопея\"',\n",
       " 'Букет \"Колорит\"',\n",
       " 'Букет \"Оазис\"',\n",
       " 'Букет \"Оранж\"',\n",
       " 'Букет \"Фаворит\"',\n",
       " 'Вишня вяленая',\n",
       " 'Вишня садовая',\n",
       " 'Галангал корень',\n",
       " 'Горох стручковый',\n",
       " 'Гранат',\n",
       " 'Грейпфрут красный',\n",
       " 'Грибы Еринги',\n",
       " 'Грибы вешенки',\n",
       " 'Грибы лисички',\n",
       " 'Грибы шампиньоны',\n",
       " 'Груша Аббат',\n",
       " 'Груша Конференц',\n",
       " 'Груша Пакхам',\n",
       " 'Груша Форел',\n",
       " 'Груша вяленая',\n",
       " 'Груша садовая',\n",
       " 'Дыня \"Косичка\"',\n",
       " 'Дыня Гуляби',\n",
       " 'Дыня Колхозница',\n",
       " 'Дыня цукаты',\n",
       " 'Ежевика свежая',\n",
       " 'Изюм Голд',\n",
       " 'Изюм Малаяр',\n",
       " 'Изюм Султана',\n",
       " 'Имбирь корень',\n",
       " 'Инжир свежий',\n",
       " 'Инжир сушеный',\n",
       " 'Кабачки',\n",
       " 'Кабачки желтые',\n",
       " 'Капуста Кольраби',\n",
       " 'Капуста Савойская',\n",
       " 'Капуста белокочанная',\n",
       " 'Капуста краснокочанная',\n",
       " 'Капуста цветная',\n",
       " 'Картофель черри',\n",
       " 'Кешью жареный',\n",
       " 'Кешью сырой',\n",
       " 'Киви',\n",
       " 'Кизил свежий',\n",
       " 'Кинза',\n",
       " 'Клубника сушеная',\n",
       " 'Кокос питьевой',\n",
       " 'Кокосовая стружка',\n",
       " 'Компотная смесь',\n",
       " 'Кролик фермерский',\n",
       " 'Крыжовник свежий',\n",
       " 'Кукуруза мини',\n",
       " 'Кукуруза свежая',\n",
       " 'Кумкват свежий',\n",
       " 'Кумкват сушеный',\n",
       " 'Кунжут белый',\n",
       " 'Кунжут черный',\n",
       " 'Курага',\n",
       " 'Курага коричневая',\n",
       " 'Курага темно-оранжевая',\n",
       " 'Лайм',\n",
       " 'Лемонграсс',\n",
       " 'Лимон',\n",
       " 'Лимон оранжевый',\n",
       " 'Лонган',\n",
       " 'Лук зеленый',\n",
       " 'Лук репчатый',\n",
       " 'Лук-порей',\n",
       " 'Лук-резанец (шнитт-лук)',\n",
       " 'Лук-шалот',\n",
       " 'Мак пищевой',\n",
       " 'Малина садовая',\n",
       " 'Малина свежая',\n",
       " 'Малина сушеная',\n",
       " 'Манго желтое',\n",
       " 'Манго зеленое',\n",
       " 'Манго цукаты',\n",
       " 'Мангостин свежий',\n",
       " 'Мандарины',\n",
       " 'Маракуйя',\n",
       " 'Миндаль жареный',\n",
       " 'Миндаль сырой',\n",
       " 'Миндальные лепестки',\n",
       " 'Морковь мытая',\n",
       " 'Морковь немытая',\n",
       " 'Мята',\n",
       " 'Нектарины',\n",
       " 'Облепиха',\n",
       " 'Огурцы Белоруссия',\n",
       " 'Огурцы Кураж',\n",
       " 'Огурцы Луховицкие',\n",
       " 'Огурцы Миринда',\n",
       " 'Огурцы бакинские',\n",
       " 'Огурцы длинноплодные',\n",
       " 'Открытка Love',\n",
       " 'Папайя',\n",
       " 'Папайя сушеная',\n",
       " 'Пастернак корень',\n",
       " 'Пекан очищенный',\n",
       " 'Персик сушеный',\n",
       " 'Персики',\n",
       " 'Персики азербайджанские',\n",
       " 'Персики армянские',\n",
       " 'Персики узбекские',\n",
       " 'Петрушка',\n",
       " 'Петрушка Кудрявая',\n",
       " 'Пленка пищевая',\n",
       " 'Подпись открытки',\n",
       " 'Помело',\n",
       " 'Помело сушеное',\n",
       " 'Помидоры Парадайз',\n",
       " 'Помидоры дагестанские',\n",
       " 'Помидоры черри',\n",
       " 'Рамбутан',\n",
       " 'Редис',\n",
       " 'Розмарин',\n",
       " 'Рычал-Су, 1л',\n",
       " 'Салат Айсберг',\n",
       " 'Салат Китайский',\n",
       " 'Салат Корн',\n",
       " 'Салат Латук',\n",
       " 'Салат Московский',\n",
       " 'Салат Радичио',\n",
       " 'Салат Романо',\n",
       " 'Салат Руккола',\n",
       " 'Салат Фризе',\n",
       " 'Салат Фриллис',\n",
       " 'Салат микс',\n",
       " 'Сахар-песок, 5кг',\n",
       " 'Свекла',\n",
       " 'Сельдерей корень',\n",
       " 'Сельдерей лист',\n",
       " 'Семена Чиа',\n",
       " 'Семена льна',\n",
       " 'Слива Президент',\n",
       " 'Слива азербайджанская',\n",
       " 'Слива красная',\n",
       " 'Тамарилло',\n",
       " 'Тархун (эстрагон)',\n",
       " 'Тимьян (чабрец)',\n",
       " 'Тыква',\n",
       " 'Тыква миндальная',\n",
       " 'Укроп',\n",
       " 'Урюк сушеный',\n",
       " 'Фасоль стручковая',\n",
       " 'Фенхель свежий',\n",
       " 'Физалис',\n",
       " 'Финики королевские',\n",
       " 'Фундук жареный',\n",
       " 'Фундук сырой',\n",
       " 'Цукаты (брусочки)',\n",
       " 'Цукаты (лепестки)',\n",
       " 'Цукаты (шайбы)',\n",
       " 'Цуккини',\n",
       " 'Цыпленок-корнишон замороженный',\n",
       " 'Черешня отборная',\n",
       " 'Черешня сушеная',\n",
       " 'Черника свежая',\n",
       " 'Чеснок весовой',\n",
       " 'Чеснок молодой',\n",
       " 'Шалфей',\n",
       " 'Шиповник',\n",
       " 'Шпинат',\n",
       " 'Шпинат мини',\n",
       " 'Щавель',\n",
       " 'Яблоки Айдаред',\n",
       " 'Яблоки Гала',\n",
       " 'Яблоки Голден',\n",
       " 'Яблоки Джонаголд',\n",
       " 'Яблоки Мутсу',\n",
       " 'Яблоки Симиренко',\n",
       " 'Яблоки Фуджи',\n",
       " 'Яблоки Чемпион',\n",
       " 'Яблоки сезонные',\n",
       " 'Яблоки сушеные',\n",
       " 'Ягоды Годжи']"
      ]
     },
     "execution_count": 32,
     "metadata": {},
     "output_type": "execute_result"
    }
   ],
   "source": [
    "products"
   ]
  },
  {
   "cell_type": "code",
   "execution_count": 33,
   "metadata": {},
   "outputs": [
    {
     "data": {
      "text/html": [
       "<div>\n",
       "<style scoped>\n",
       "    .dataframe tbody tr th:only-of-type {\n",
       "        vertical-align: middle;\n",
       "    }\n",
       "\n",
       "    .dataframe tbody tr th {\n",
       "        vertical-align: top;\n",
       "    }\n",
       "\n",
       "    .dataframe thead th {\n",
       "        text-align: right;\n",
       "    }\n",
       "</style>\n",
       "<table border=\"1\" class=\"dataframe\">\n",
       "  <thead>\n",
       "    <tr style=\"text-align: right;\">\n",
       "      <th></th>\n",
       "      <th>id</th>\n",
       "      <th>article</th>\n",
       "    </tr>\n",
       "  </thead>\n",
       "  <tbody>\n",
       "    <tr>\n",
       "      <th>27</th>\n",
       "      <td>17618</td>\n",
       "      <td>Подпись открытки</td>\n",
       "    </tr>\n",
       "    <tr>\n",
       "      <th>344</th>\n",
       "      <td>19034</td>\n",
       "      <td>Подпись открытки</td>\n",
       "    </tr>\n",
       "    <tr>\n",
       "      <th>548</th>\n",
       "      <td>19559</td>\n",
       "      <td>Подпись открытки</td>\n",
       "    </tr>\n",
       "    <tr>\n",
       "      <th>674</th>\n",
       "      <td>20184</td>\n",
       "      <td>Подпись открытки</td>\n",
       "    </tr>\n",
       "    <tr>\n",
       "      <th>735</th>\n",
       "      <td>20289</td>\n",
       "      <td>Подпись открытки</td>\n",
       "    </tr>\n",
       "    <tr>\n",
       "      <th>...</th>\n",
       "      <td>...</td>\n",
       "      <td>...</td>\n",
       "    </tr>\n",
       "    <tr>\n",
       "      <th>42446</th>\n",
       "      <td>115851</td>\n",
       "      <td>Подпись открытки</td>\n",
       "    </tr>\n",
       "    <tr>\n",
       "      <th>42615</th>\n",
       "      <td>116407</td>\n",
       "      <td>Подпись открытки</td>\n",
       "    </tr>\n",
       "    <tr>\n",
       "      <th>42859</th>\n",
       "      <td>116974</td>\n",
       "      <td>Подпись открытки</td>\n",
       "    </tr>\n",
       "    <tr>\n",
       "      <th>43424</th>\n",
       "      <td>119062</td>\n",
       "      <td>Подпись открытки</td>\n",
       "    </tr>\n",
       "    <tr>\n",
       "      <th>43467</th>\n",
       "      <td>119206</td>\n",
       "      <td>Подпись открытки</td>\n",
       "    </tr>\n",
       "  </tbody>\n",
       "</table>\n",
       "<p>144 rows × 2 columns</p>\n",
       "</div>"
      ],
      "text/plain": [
       "           id           article\n",
       "27      17618  Подпись открытки\n",
       "344     19034  Подпись открытки\n",
       "548     19559  Подпись открытки\n",
       "674     20184  Подпись открытки\n",
       "735     20289  Подпись открытки\n",
       "...       ...               ...\n",
       "42446  115851  Подпись открытки\n",
       "42615  116407  Подпись открытки\n",
       "42859  116974  Подпись открытки\n",
       "43424  119062  Подпись открытки\n",
       "43467  119206  Подпись открытки\n",
       "\n",
       "[144 rows x 2 columns]"
      ]
     },
     "execution_count": 33,
     "metadata": {},
     "output_type": "execute_result"
    }
   ],
   "source": [
    "df.query('article == \"Подпись открытки\"')  # некоторые позиции в данных стоит обсудить с колегами, предоставившими данные"
   ]
  },
  {
   "cell_type": "markdown",
   "metadata": {},
   "source": [
    "В продуктовых магазинах как правило продукты находятся по группам товаров и для совместного раположения нам не так важны сорта помидор или яблок. Поэтому попробуем объединить самые частыо встречаемые слова и посмотреть что изменится"
   ]
  },
  {
   "cell_type": "code",
   "execution_count": 34,
   "metadata": {},
   "outputs": [],
   "source": [
    "def group_word(word):\n",
    "    if 'сушен' not in word:\n",
    "        if word.startswith('Яблоки'):\n",
    "            word = 'Яблоки'\n",
    "        elif word.startswith('Салат'):\n",
    "            word = 'Салат'\n",
    "        elif word.startswith('Букет'):\n",
    "            word = 'Букет'\n",
    "        elif word.startswith('Груша'):\n",
    "            word = 'Груша'\n",
    "        elif word.startswith('Грибы'):\n",
    "            word = 'Грибы'\n",
    "        elif word.startswith('Огурцы'):\n",
    "            word = 'Огурцы'\n",
    "        elif word.startswith('Помидоры'):\n",
    "            word = 'Помидоры'\n",
    "\n",
    "    return word"
   ]
  },
  {
   "cell_type": "code",
   "execution_count": 35,
   "metadata": {},
   "outputs": [],
   "source": [
    "new_df['group'] = new_df.article.apply(group_word)"
   ]
  },
  {
   "cell_type": "code",
   "execution_count": 36,
   "metadata": {},
   "outputs": [
    {
     "data": {
      "text/plain": [
       "160"
      ]
     },
     "execution_count": 36,
     "metadata": {},
     "output_type": "execute_result"
    }
   ],
   "source": [
    "len(new_df.group.unique())"
   ]
  },
  {
   "cell_type": "code",
   "execution_count": 37,
   "metadata": {},
   "outputs": [
    {
     "data": {
      "text/html": [
       "<div>\n",
       "<style scoped>\n",
       "    .dataframe tbody tr th:only-of-type {\n",
       "        vertical-align: middle;\n",
       "    }\n",
       "\n",
       "    .dataframe tbody tr th {\n",
       "        vertical-align: top;\n",
       "    }\n",
       "\n",
       "    .dataframe thead th {\n",
       "        text-align: right;\n",
       "    }\n",
       "</style>\n",
       "<table border=\"1\" class=\"dataframe\">\n",
       "  <thead>\n",
       "    <tr style=\"text-align: right;\">\n",
       "      <th></th>\n",
       "      <th>id</th>\n",
       "      <th>article</th>\n",
       "      <th>group</th>\n",
       "    </tr>\n",
       "  </thead>\n",
       "  <tbody>\n",
       "    <tr>\n",
       "      <th>0</th>\n",
       "      <td>17119</td>\n",
       "      <td>Лимон</td>\n",
       "      <td>Лимон</td>\n",
       "    </tr>\n",
       "    <tr>\n",
       "      <th>1</th>\n",
       "      <td>17119</td>\n",
       "      <td>Лимон оранжевый</td>\n",
       "      <td>Лимон оранжевый</td>\n",
       "    </tr>\n",
       "    <tr>\n",
       "      <th>2</th>\n",
       "      <td>17119</td>\n",
       "      <td>Лук-порей</td>\n",
       "      <td>Лук-порей</td>\n",
       "    </tr>\n",
       "    <tr>\n",
       "      <th>3</th>\n",
       "      <td>17119</td>\n",
       "      <td>Лук репчатый</td>\n",
       "      <td>Лук репчатый</td>\n",
       "    </tr>\n",
       "    <tr>\n",
       "      <th>4</th>\n",
       "      <td>17119</td>\n",
       "      <td>Малина свежая</td>\n",
       "      <td>Малина свежая</td>\n",
       "    </tr>\n",
       "    <tr>\n",
       "      <th>...</th>\n",
       "      <td>...</td>\n",
       "      <td>...</td>\n",
       "      <td>...</td>\n",
       "    </tr>\n",
       "    <tr>\n",
       "      <th>43370</th>\n",
       "      <td>119396</td>\n",
       "      <td>Укроп</td>\n",
       "      <td>Укроп</td>\n",
       "    </tr>\n",
       "    <tr>\n",
       "      <th>43371</th>\n",
       "      <td>119396</td>\n",
       "      <td>Свекла</td>\n",
       "      <td>Свекла</td>\n",
       "    </tr>\n",
       "    <tr>\n",
       "      <th>43372</th>\n",
       "      <td>119396</td>\n",
       "      <td>Физалис</td>\n",
       "      <td>Физалис</td>\n",
       "    </tr>\n",
       "    <tr>\n",
       "      <th>43373</th>\n",
       "      <td>119396</td>\n",
       "      <td>Черешня сушеная</td>\n",
       "      <td>Черешня сушеная</td>\n",
       "    </tr>\n",
       "    <tr>\n",
       "      <th>43374</th>\n",
       "      <td>119396</td>\n",
       "      <td>Баклажаны грунтовые</td>\n",
       "      <td>Баклажаны грунтовые</td>\n",
       "    </tr>\n",
       "  </tbody>\n",
       "</table>\n",
       "<p>43375 rows × 3 columns</p>\n",
       "</div>"
      ],
      "text/plain": [
       "           id              article                group\n",
       "0       17119                Лимон                Лимон\n",
       "1       17119      Лимон оранжевый      Лимон оранжевый\n",
       "2       17119            Лук-порей            Лук-порей\n",
       "3       17119         Лук репчатый         Лук репчатый\n",
       "4       17119        Малина свежая        Малина свежая\n",
       "...       ...                  ...                  ...\n",
       "43370  119396                Укроп                Укроп\n",
       "43371  119396               Свекла               Свекла\n",
       "43372  119396              Физалис              Физалис\n",
       "43373  119396      Черешня сушеная      Черешня сушеная\n",
       "43374  119396  Баклажаны грунтовые  Баклажаны грунтовые\n",
       "\n",
       "[43375 rows x 3 columns]"
      ]
     },
     "execution_count": 37,
     "metadata": {},
     "output_type": "execute_result"
    }
   ],
   "source": [
    "new_df"
   ]
  },
  {
   "cell_type": "code",
   "execution_count": 38,
   "metadata": {},
   "outputs": [],
   "source": [
    "onecheck = {}\n",
    "for i in range(len(new_df)):\n",
    "    if new_df.id[i] not in onecheck:\n",
    "        onecheck[new_df.id[i]] = []\n",
    "    onecheck[new_df.id[i]].append(new_df.group[i])"
   ]
  },
  {
   "cell_type": "code",
   "execution_count": 39,
   "metadata": {},
   "outputs": [],
   "source": [
    "pair_articles = {}\n",
    "for i in (onecheck):\n",
    "    pair_articles[i] = []"
   ]
  },
  {
   "cell_type": "code",
   "execution_count": 40,
   "metadata": {},
   "outputs": [],
   "source": [
    "for i in (onecheck):\n",
    "    onecheck[i] = sorted(onecheck[i])\n",
    "    onecheck[i] = deque(onecheck[i])\n",
    "    for j in range(len(onecheck[i])):\n",
    "        for k in range(len(onecheck[i])):\n",
    "            if k < len(onecheck[i]) - 1:\n",
    "                pair_articles[i].append(onecheck[i][0] + ' ' + onecheck[i][k + 1])\n",
    "        onecheck[i].popleft()"
   ]
  },
  {
   "cell_type": "code",
   "execution_count": 41,
   "metadata": {},
   "outputs": [],
   "source": [
    "pair_count = {}\n",
    "for i in (pair_articles.values()):\n",
    "    for j in i:\n",
    "        if j not in pair_count:\n",
    "            pair_count[j] = 1\n",
    "        pair_count[j] += 1"
   ]
  },
  {
   "cell_type": "code",
   "execution_count": 42,
   "metadata": {},
   "outputs": [],
   "source": [
    "df_pair = pd.DataFrame.from_dict(pair_count, orient='index')"
   ]
  },
  {
   "cell_type": "code",
   "execution_count": 43,
   "metadata": {},
   "outputs": [],
   "source": [
    "df_pair.rename(columns={0: 'count'}, inplace=True)"
   ]
  },
  {
   "cell_type": "code",
   "execution_count": 44,
   "metadata": {},
   "outputs": [
    {
     "data": {
      "text/html": [
       "<div>\n",
       "<style scoped>\n",
       "    .dataframe tbody tr th:only-of-type {\n",
       "        vertical-align: middle;\n",
       "    }\n",
       "\n",
       "    .dataframe tbody tr th {\n",
       "        vertical-align: top;\n",
       "    }\n",
       "\n",
       "    .dataframe thead th {\n",
       "        text-align: right;\n",
       "    }\n",
       "</style>\n",
       "<table border=\"1\" class=\"dataframe\">\n",
       "  <thead>\n",
       "    <tr style=\"text-align: right;\">\n",
       "      <th></th>\n",
       "      <th>count</th>\n",
       "    </tr>\n",
       "  </thead>\n",
       "  <tbody>\n",
       "    <tr>\n",
       "      <th>Огурцы Салат</th>\n",
       "      <td>1674</td>\n",
       "    </tr>\n",
       "    <tr>\n",
       "      <th>Огурцы Яблоки</th>\n",
       "      <td>1265</td>\n",
       "    </tr>\n",
       "    <tr>\n",
       "      <th>Салат Яблоки</th>\n",
       "      <td>1114</td>\n",
       "    </tr>\n",
       "    <tr>\n",
       "      <th>Груша Огурцы</th>\n",
       "      <td>965</td>\n",
       "    </tr>\n",
       "    <tr>\n",
       "      <th>Огурцы Помидоры</th>\n",
       "      <td>942</td>\n",
       "    </tr>\n",
       "  </tbody>\n",
       "</table>\n",
       "</div>"
      ],
      "text/plain": [
       "                 count\n",
       "Огурцы Салат      1674\n",
       "Огурцы Яблоки     1265\n",
       "Салат Яблоки      1114\n",
       "Груша Огурцы       965\n",
       "Огурцы Помидоры    942"
      ]
     },
     "execution_count": 44,
     "metadata": {},
     "output_type": "execute_result"
    }
   ],
   "source": [
    "df_pair.sort_values('count',ascending=False).head(5)  # выводим топ 5 самых втсречаемых пар"
   ]
  },
  {
   "cell_type": "markdown",
   "metadata": {},
   "source": [
    "Выводы.\n",
    "К сожалению, новые результаты дают те же выводы что и старые.\n",
    "Можно заметить большое количеество пар овощей, зелени и фруктов. Возможно, это связано с сезонностью и тем. С целью получения новых закономерностей, можно попробовать ввести ранги продуктов, но это выходит за рамки текущего проекта и сроков."
   ]
  }
 ],
 "metadata": {
  "kernelspec": {
   "display_name": "Python 3",
   "language": "python",
   "name": "python3"
  },
  "language_info": {
   "codemirror_mode": {
    "name": "ipython",
    "version": 3
   },
   "file_extension": ".py",
   "mimetype": "text/x-python",
   "name": "python",
   "nbconvert_exporter": "python",
   "pygments_lexer": "ipython3",
   "version": "3.8.3"
  }
 },
 "nbformat": 4,
 "nbformat_minor": 4
}
